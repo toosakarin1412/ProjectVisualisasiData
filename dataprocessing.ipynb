{
 "cells": [
  {
   "cell_type": "code",
   "execution_count": 1,
   "metadata": {},
   "outputs": [],
   "source": [
    "# Import Library\n",
    "import pandas as pd\n",
    "import seaborn as sns\n",
    "from matplotlib import pyplot as plt\n"
   ]
  },
  {
   "cell_type": "code",
   "execution_count": 2,
   "metadata": {},
   "outputs": [],
   "source": [
    "# Membaca Dataset\n",
    "data = pd.read_csv('milknew.csv')"
   ]
  },
  {
   "cell_type": "code",
   "execution_count": 3,
   "metadata": {},
   "outputs": [],
   "source": [
    "# Membuat korelasi \n",
    "corelation = data.corr(numeric_only=True).stack().reset_index()\n",
    "corelation.columns = ['Fitur1', 'Fitur2', 'Korelasi']\n",
    "corelation.to_csv(\"korelasi.csv\", index=False)"
   ]
  },
  {
   "cell_type": "code",
   "execution_count": 1,
   "metadata": {},
   "outputs": [
    {
     "ename": "NameError",
     "evalue": "name 'data' is not defined",
     "output_type": "error",
     "traceback": [
      "\u001b[0;31m---------------------------------------------------------------------------\u001b[0m",
      "\u001b[0;31mNameError\u001b[0m                                 Traceback (most recent call last)",
      "Cell \u001b[0;32mIn[1], line 8\u001b[0m\n\u001b[1;32m      6\u001b[0m dataToDf \u001b[39m=\u001b[39m []\n\u001b[1;32m      7\u001b[0m \u001b[39mfor\u001b[39;00m y \u001b[39min\u001b[39;00m grade:\n\u001b[0;32m----> 8\u001b[0m     count \u001b[39m=\u001b[39m data[data[\u001b[39m\"\u001b[39m\u001b[39mGrade\u001b[39m\u001b[39m\"\u001b[39m] \u001b[39m==\u001b[39m y][x]\u001b[39m.\u001b[39mvalue_counts()\n\u001b[1;32m      9\u001b[0m     dataToDf\u001b[39m.\u001b[39mappend([y,count[\u001b[39m0\u001b[39m], count[\u001b[39m1\u001b[39m]])\n\u001b[1;32m     10\u001b[0m df \u001b[39m=\u001b[39m pd\u001b[39m.\u001b[39mDataFrame(dataToDf, columns\u001b[39m=\u001b[39mcol)\n",
      "\u001b[0;31mNameError\u001b[0m: name 'data' is not defined"
     ]
    }
   ],
   "source": [
    "# Membuat data untuk barplot\n",
    "list = [\"Taste\", \"Odor\", \"Fat\", \"Turbidity\"]\n",
    "grade = [\"high\", \"medium\", \"low\"]\n",
    "col = [\"Grade\", \"False\", \"True\"]\n",
    "\n",
    "for x in list:\n",
    "    dataToDf = []\n",
    "    for y in grade:\n",
    "        count = data[data[\"Grade\"] == y][x].value_counts()\n",
    "        dataToDf.append([y,count[0], count[1]])\n",
    "    df = pd.DataFrame(dataToDf, columns=col)\n",
    "    df.to_csv(x+\".csv\",index=False)\n"
   ]
  }
 ],
 "metadata": {
  "kernelspec": {
   "display_name": "Python 3",
   "language": "python",
   "name": "python3"
  },
  "language_info": {
   "codemirror_mode": {
    "name": "ipython",
    "version": 3
   },
   "file_extension": ".py",
   "mimetype": "text/x-python",
   "name": "python",
   "nbconvert_exporter": "python",
   "pygments_lexer": "ipython3",
   "version": "3.10.10"
  },
  "orig_nbformat": 4
 },
 "nbformat": 4,
 "nbformat_minor": 2
}
