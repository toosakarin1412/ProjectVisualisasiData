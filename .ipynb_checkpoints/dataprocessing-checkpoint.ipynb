{
 "cells": [
  {
   "cell_type": "code",
   "execution_count": 3,
   "metadata": {},
   "outputs": [],
   "source": [
    "# Import Library\n",
    "import pandas as pd\n",
    "import seaborn as sns\n",
    "from matplotlib import pyplot as plt\n"
   ]
  },
  {
   "cell_type": "code",
   "execution_count": 4,
   "metadata": {},
   "outputs": [],
   "source": [
    "# Membaca Dataset\n",
    "data = pd.read_csv('milknew.csv')"
   ]
  },
  {
   "cell_type": "code",
   "execution_count": 5,
   "metadata": {},
   "outputs": [],
   "source": [
    "# Membuat korelasi \n",
    "corelation = data.corr(numeric_only=True).stack().reset_index()\n",
    "corelation.columns = ['Fitur1', 'Fitur2', 'Korelasi']\n",
    "corelation.to_csv(\"korelasi.csv\", index=False)"
   ]
  },
  {
   "cell_type": "code",
   "execution_count": 6,
   "metadata": {},
   "outputs": [],
   "source": [
    "# Membuat data untuk barplot\n",
    "list = [\"Taste\", \"Odor\", \"Fat\", \"Turbidity\"]\n",
    "grade = [\"high\", \"medium\", \"low\"]\n",
    "col = [\"Grade\", \"False\", \"True\"]\n",
    "\n",
    "for x in list:\n",
    "    dataToDf = []\n",
    "    for y in grade:\n",
    "        count = data[data[\"Grade\"] == y][x].value_counts()\n",
    "        dataToDf.append([y,count[0], count[1]])\n",
    "    df = pd.DataFrame(dataToDf, columns=col)\n",
    "    df.to_csv(x+\".csv\",index=False)\n"
   ]
  }
 ],
 "metadata": {
  "kernelspec": {
   "display_name": "Python 3 (ipykernel)",
   "language": "python",
   "name": "python3"
  },
  "language_info": {
   "codemirror_mode": {
    "name": "ipython",
    "version": 3
   },
   "file_extension": ".py",
   "mimetype": "text/x-python",
   "name": "python",
   "nbconvert_exporter": "python",
   "pygments_lexer": "ipython3",
   "version": "3.10.10"
  }
 },
 "nbformat": 4,
 "nbformat_minor": 2
}
